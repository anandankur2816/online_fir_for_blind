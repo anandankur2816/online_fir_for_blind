{
 "cells": [
  {
   "cell_type": "markdown",
   "source": [
    "# Text to speech"
   ],
   "metadata": {
    "collapsed": false
   }
  },
  {
   "cell_type": "code",
   "execution_count": 36,
   "metadata": {
    "collapsed": true
   },
   "outputs": [
    {
     "name": "stdout",
     "output_type": "stream",
     "text": [
      "Did you say ankur\n",
      "yes\n",
      "Did you say pune pune\n",
      "Did you say pune\n",
      "Did you say ranchi\n",
      "yes\n",
      "Did you say pune pune\n",
      "yes\n",
      "Did you say just noted down that's it\n",
      "yes\n"
     ]
    }
   ],
   "source": [
    "# Python program to translate\n",
    "# speech to text and text to speech\n",
    "\n",
    "\n",
    "import speech_recognition as sr\n",
    "import pyttsx3\n",
    "import time\n",
    "\n",
    "# Initialize the recognizer\n",
    "r = sr.Recognizer()\n",
    "\n",
    "# Function to convert text to\n",
    "# speech\n",
    "\n",
    "to_ask = [\"name\", \"place of incident\", \"District\", \"complaint text\"]\n",
    "durations = [5,5,5,20]\n",
    "\n",
    "def SpeakText(command):\n",
    "\n",
    "\t# Initialize the engine\n",
    "\tengine = pyttsx3.init()\n",
    "\tengine.say(command)\n",
    "\tengine.runAndWait()\n",
    "\n",
    "current_index = 0\n",
    "stored_values = {}\n",
    "# Loop infinitely for user to\n",
    "# speak\n",
    "flag=True\n",
    "while(current_index<len(to_ask)):\n",
    "\n",
    "\t# Exception handling to handle\n",
    "\t# exceptions at the runtime\n",
    "\ttry:\n",
    "\t\ttext = f\"Hello, I am your online F I R assistant. Please tell me your {to_ask[current_index]}.\"\n",
    "\t\tSpeakText(text)\n",
    "\t\t# use the microphone as source for input.\n",
    "\t\twith sr.Microphone() as source2:\n",
    "\t\t\ttime.sleep(1)\n",
    "\t\t\tSpeakText(\"Speak Now\")\n",
    "\t\t\t# wait for a second to let the recognizer\n",
    "\t\t\t# adjust the energy threshold based on\n",
    "\t\t\t# the surrounding noise level\n",
    "\t\t\tr.adjust_for_ambient_noise(source2, duration=0.2)\n",
    "\n",
    "\t\t\t#listens for the user's input\n",
    "\t\t\taudio2 = r.record(source2,duration=durations[current_index])\n",
    "\n",
    "\t\t\t# Using google to recognize audio\n",
    "\t\t\tMyText = r.recognize_google(audio2)\n",
    "\t\t\tMyText = MyText.lower()\n",
    "\t\t\tprint(\"Did you say \"+MyText)\n",
    "\t\t\tSpeakText(\"Did you say\")\n",
    "\t\t\tSpeakText(MyText)\n",
    "\t\t\tSpeakText(\"Please say yes or no\")\n",
    "\t\t\tSpeakText(\"Speak Now\")\n",
    "\t\t\taudio_confirmation = r.record(source2,duration=2)\n",
    "\t\t\tconfirmation_txt = r.recognize_google(audio_confirmation)\n",
    "\t\t\tconfirmation_txt = confirmation_txt.lower()\n",
    "\t\t\tprint(confirmation_txt)\n",
    "\t\t\tif \"yes\" in confirmation_txt :\n",
    "\t\t\t\tstored_values[to_ask[current_index]] = MyText\n",
    "\t\t\t\tcurrent_index+=1\n",
    "\texcept sr.RequestError as e:\n",
    "\t\tSpeakText(\"Could not request results; {0}\".format(e))\n",
    "\n",
    "\texcept sr.UnknownValueError:\n",
    "\t\tSpeakText(\"unknown error occurred\")"
   ]
  },
  {
   "cell_type": "code",
   "execution_count": 37,
   "outputs": [
    {
     "data": {
      "text/plain": "{'name': 'ankur',\n 'place of incident': 'ranchi',\n 'District': 'pune pune',\n 'complaint text': \"just noted down that's it\"}"
     },
     "execution_count": 37,
     "metadata": {},
     "output_type": "execute_result"
    }
   ],
   "source": [
    "stored_values"
   ],
   "metadata": {
    "collapsed": false
   }
  },
  {
   "cell_type": "code",
   "execution_count": 40,
   "outputs": [
    {
     "ename": "KeyboardInterrupt",
     "evalue": "",
     "output_type": "error",
     "traceback": [
      "\u001B[1;31m---------------------------------------------------------------------------\u001B[0m",
      "\u001B[1;31mWebDriverException\u001B[0m                        Traceback (most recent call last)",
      "File \u001B[1;32m~\\AppData\\Local\\Programs\\Python\\Python310\\lib\\site-packages\\selenium\\webdriver\\chromium\\webdriver.py:92\u001B[0m, in \u001B[0;36mChromiumDriver.__init__\u001B[1;34m(self, browser_name, vendor_prefix, port, options, service_args, desired_capabilities, service_log_path, service, keep_alive)\u001B[0m\n\u001B[0;32m     91\u001B[0m \u001B[38;5;28;01mtry\u001B[39;00m:\n\u001B[1;32m---> 92\u001B[0m     \u001B[38;5;28;43msuper\u001B[39;49m\u001B[43m(\u001B[49m\u001B[43m)\u001B[49m\u001B[38;5;241;43m.\u001B[39;49m\u001B[38;5;21;43m__init__\u001B[39;49m\u001B[43m(\u001B[49m\n\u001B[0;32m     93\u001B[0m \u001B[43m        \u001B[49m\u001B[43mcommand_executor\u001B[49m\u001B[38;5;241;43m=\u001B[39;49m\u001B[43mChromiumRemoteConnection\u001B[49m\u001B[43m(\u001B[49m\n\u001B[0;32m     94\u001B[0m \u001B[43m            \u001B[49m\u001B[43mremote_server_addr\u001B[49m\u001B[38;5;241;43m=\u001B[39;49m\u001B[38;5;28;43mself\u001B[39;49m\u001B[38;5;241;43m.\u001B[39;49m\u001B[43mservice\u001B[49m\u001B[38;5;241;43m.\u001B[39;49m\u001B[43mservice_url\u001B[49m\u001B[43m,\u001B[49m\n\u001B[0;32m     95\u001B[0m \u001B[43m            \u001B[49m\u001B[43mbrowser_name\u001B[49m\u001B[38;5;241;43m=\u001B[39;49m\u001B[43mbrowser_name\u001B[49m\u001B[43m,\u001B[49m\u001B[43m \u001B[49m\u001B[43mvendor_prefix\u001B[49m\u001B[38;5;241;43m=\u001B[39;49m\u001B[43mvendor_prefix\u001B[49m\u001B[43m,\u001B[49m\n\u001B[0;32m     96\u001B[0m \u001B[43m            \u001B[49m\u001B[43mkeep_alive\u001B[49m\u001B[38;5;241;43m=\u001B[39;49m\u001B[43mkeep_alive\u001B[49m\u001B[43m,\u001B[49m\u001B[43m \u001B[49m\u001B[43mignore_proxy\u001B[49m\u001B[38;5;241;43m=\u001B[39;49m\u001B[43m_ignore_proxy\u001B[49m\u001B[43m)\u001B[49m\u001B[43m,\u001B[49m\n\u001B[0;32m     97\u001B[0m \u001B[43m        \u001B[49m\u001B[43moptions\u001B[49m\u001B[38;5;241;43m=\u001B[39;49m\u001B[43moptions\u001B[49m\u001B[43m)\u001B[49m\n\u001B[0;32m     98\u001B[0m \u001B[38;5;28;01mexcept\u001B[39;00m \u001B[38;5;167;01mException\u001B[39;00m:\n",
      "File \u001B[1;32m~\\AppData\\Local\\Programs\\Python\\Python310\\lib\\site-packages\\selenium\\webdriver\\remote\\webdriver.py:270\u001B[0m, in \u001B[0;36mWebDriver.__init__\u001B[1;34m(self, command_executor, desired_capabilities, browser_profile, proxy, keep_alive, file_detector, options)\u001B[0m\n\u001B[0;32m    269\u001B[0m \u001B[38;5;28mself\u001B[39m\u001B[38;5;241m.\u001B[39mstart_client()\n\u001B[1;32m--> 270\u001B[0m \u001B[38;5;28;43mself\u001B[39;49m\u001B[38;5;241;43m.\u001B[39;49m\u001B[43mstart_session\u001B[49m\u001B[43m(\u001B[49m\u001B[43mcapabilities\u001B[49m\u001B[43m,\u001B[49m\u001B[43m \u001B[49m\u001B[43mbrowser_profile\u001B[49m\u001B[43m)\u001B[49m\n",
      "File \u001B[1;32m~\\AppData\\Local\\Programs\\Python\\Python310\\lib\\site-packages\\selenium\\webdriver\\remote\\webdriver.py:363\u001B[0m, in \u001B[0;36mWebDriver.start_session\u001B[1;34m(self, capabilities, browser_profile)\u001B[0m\n\u001B[0;32m    362\u001B[0m parameters \u001B[38;5;241m=\u001B[39m {\u001B[38;5;124m\"\u001B[39m\u001B[38;5;124mcapabilities\u001B[39m\u001B[38;5;124m\"\u001B[39m: w3c_caps}\n\u001B[1;32m--> 363\u001B[0m response \u001B[38;5;241m=\u001B[39m \u001B[38;5;28;43mself\u001B[39;49m\u001B[38;5;241;43m.\u001B[39;49m\u001B[43mexecute\u001B[49m\u001B[43m(\u001B[49m\u001B[43mCommand\u001B[49m\u001B[38;5;241;43m.\u001B[39;49m\u001B[43mNEW_SESSION\u001B[49m\u001B[43m,\u001B[49m\u001B[43m \u001B[49m\u001B[43mparameters\u001B[49m\u001B[43m)\u001B[49m\n\u001B[0;32m    364\u001B[0m \u001B[38;5;28;01mif\u001B[39;00m \u001B[38;5;124m'\u001B[39m\u001B[38;5;124msessionId\u001B[39m\u001B[38;5;124m'\u001B[39m \u001B[38;5;129;01mnot\u001B[39;00m \u001B[38;5;129;01min\u001B[39;00m response:\n",
      "File \u001B[1;32m~\\AppData\\Local\\Programs\\Python\\Python310\\lib\\site-packages\\selenium\\webdriver\\remote\\webdriver.py:428\u001B[0m, in \u001B[0;36mWebDriver.execute\u001B[1;34m(self, driver_command, params)\u001B[0m\n\u001B[0;32m    427\u001B[0m \u001B[38;5;28;01mif\u001B[39;00m response:\n\u001B[1;32m--> 428\u001B[0m     \u001B[38;5;28;43mself\u001B[39;49m\u001B[38;5;241;43m.\u001B[39;49m\u001B[43merror_handler\u001B[49m\u001B[38;5;241;43m.\u001B[39;49m\u001B[43mcheck_response\u001B[49m\u001B[43m(\u001B[49m\u001B[43mresponse\u001B[49m\u001B[43m)\u001B[49m\n\u001B[0;32m    429\u001B[0m     response[\u001B[38;5;124m'\u001B[39m\u001B[38;5;124mvalue\u001B[39m\u001B[38;5;124m'\u001B[39m] \u001B[38;5;241m=\u001B[39m \u001B[38;5;28mself\u001B[39m\u001B[38;5;241m.\u001B[39m_unwrap_value(\n\u001B[0;32m    430\u001B[0m         response\u001B[38;5;241m.\u001B[39mget(\u001B[38;5;124m'\u001B[39m\u001B[38;5;124mvalue\u001B[39m\u001B[38;5;124m'\u001B[39m, \u001B[38;5;28;01mNone\u001B[39;00m))\n",
      "File \u001B[1;32m~\\AppData\\Local\\Programs\\Python\\Python310\\lib\\site-packages\\selenium\\webdriver\\remote\\errorhandler.py:243\u001B[0m, in \u001B[0;36mErrorHandler.check_response\u001B[1;34m(self, response)\u001B[0m\n\u001B[0;32m    242\u001B[0m     \u001B[38;5;28;01mraise\u001B[39;00m exception_class(message, screen, stacktrace, alert_text)  \u001B[38;5;66;03m# type: ignore[call-arg]  # mypy is not smart enough here\u001B[39;00m\n\u001B[1;32m--> 243\u001B[0m \u001B[38;5;28;01mraise\u001B[39;00m exception_class(message, screen, stacktrace)\n",
      "\u001B[1;31mWebDriverException\u001B[0m: Message: chrome not reachable\n  (Session info: chrome=105.0.5195.127)\nStacktrace:\nBacktrace:\n\tOrdinal0 [0x0099DF13+2219795]\n\tOrdinal0 [0x00932841+1779777]\n\tOrdinal0 [0x00844100+803072]\n\tOrdinal0 [0x00839BF2+760818]\n\tOrdinal0 [0x0082BD60+703840]\n\tOrdinal0 [0x0089394D+1128781]\n\tOrdinal0 [0x0089331A+1127194]\n\tOrdinal0 [0x0088E616+1107478]\n\tOrdinal0 [0x00867F89+950153]\n\tOrdinal0 [0x00868F56+954198]\n\tGetHandleVerifier [0x00C92CB2+3040210]\n\tGetHandleVerifier [0x00C82BB4+2974420]\n\tGetHandleVerifier [0x00A36A0A+565546]\n\tGetHandleVerifier [0x00A35680+560544]\n\tOrdinal0 [0x00939A5C+1808988]\n\tOrdinal0 [0x0093E3A8+1827752]\n\tOrdinal0 [0x0093E495+1827989]\n\tOrdinal0 [0x009480A4+1867940]\n\tBaseThreadInitThunk [0x76CF7BA9+25]\n\tRtlInitializeExceptionChain [0x7755BB3B+107]\n\tRtlClearBits [0x7755BABF+191]\n",
      "\nDuring handling of the above exception, another exception occurred:\n",
      "\u001B[1;31mTimeoutError\u001B[0m                              Traceback (most recent call last)",
      "File \u001B[1;32m~\\AppData\\Local\\Programs\\Python\\Python310\\lib\\socket.py:833\u001B[0m, in \u001B[0;36mcreate_connection\u001B[1;34m(address, timeout, source_address)\u001B[0m\n\u001B[0;32m    832\u001B[0m     sock\u001B[38;5;241m.\u001B[39mbind(source_address)\n\u001B[1;32m--> 833\u001B[0m \u001B[43msock\u001B[49m\u001B[38;5;241;43m.\u001B[39;49m\u001B[43mconnect\u001B[49m\u001B[43m(\u001B[49m\u001B[43msa\u001B[49m\u001B[43m)\u001B[49m\n\u001B[0;32m    834\u001B[0m \u001B[38;5;66;03m# Break explicitly a reference cycle\u001B[39;00m\n",
      "\u001B[1;31mTimeoutError\u001B[0m: timed out",
      "\nDuring handling of the above exception, another exception occurred:\n",
      "\u001B[1;31mKeyboardInterrupt\u001B[0m                         Traceback (most recent call last)",
      "Input \u001B[1;32mIn [40]\u001B[0m, in \u001B[0;36m<cell line: 17>\u001B[1;34m()\u001B[0m\n\u001B[0;32m     15\u001B[0m chrome_options\u001B[38;5;241m.\u001B[39madd_experimental_option(\u001B[38;5;124m\"\u001B[39m\u001B[38;5;124mdetach\u001B[39m\u001B[38;5;124m\"\u001B[39m, \u001B[38;5;28;01mTrue\u001B[39;00m)\n\u001B[0;32m     16\u001B[0m s \u001B[38;5;241m=\u001B[39m Service(\u001B[38;5;124m\"\u001B[39m\u001B[38;5;124mD:\u001B[39m\u001B[38;5;124m\\\u001B[39m\u001B[38;5;124mWebservices ML\u001B[39m\u001B[38;5;124m\\\u001B[39m\u001B[38;5;124mchromedriver.exe\u001B[39m\u001B[38;5;124m\"\u001B[39m)\n\u001B[1;32m---> 17\u001B[0m driver \u001B[38;5;241m=\u001B[39m \u001B[43mwebdriver\u001B[49m\u001B[38;5;241;43m.\u001B[39;49m\u001B[43mChrome\u001B[49m\u001B[43m(\u001B[49m\u001B[43mservice\u001B[49m\u001B[38;5;241;43m=\u001B[39;49m\u001B[43ms\u001B[49m\u001B[43m,\u001B[49m\u001B[43m \u001B[49m\u001B[43moptions\u001B[49m\u001B[38;5;241;43m=\u001B[39;49m\u001B[43mchrome_options\u001B[49m\u001B[43m)\u001B[49m\n\u001B[0;32m     18\u001B[0m driver\u001B[38;5;241m.\u001B[39mmaximize_window()\n",
      "File \u001B[1;32m~\\AppData\\Local\\Programs\\Python\\Python310\\lib\\site-packages\\selenium\\webdriver\\chrome\\webdriver.py:69\u001B[0m, in \u001B[0;36mWebDriver.__init__\u001B[1;34m(self, executable_path, port, options, service_args, desired_capabilities, service_log_path, chrome_options, service, keep_alive)\u001B[0m\n\u001B[0;32m     66\u001B[0m \u001B[38;5;28;01mif\u001B[39;00m \u001B[38;5;129;01mnot\u001B[39;00m service:\n\u001B[0;32m     67\u001B[0m     service \u001B[38;5;241m=\u001B[39m Service(executable_path, port, service_args, service_log_path)\n\u001B[1;32m---> 69\u001B[0m \u001B[38;5;28;43msuper\u001B[39;49m\u001B[43m(\u001B[49m\u001B[43m)\u001B[49m\u001B[38;5;241;43m.\u001B[39;49m\u001B[38;5;21;43m__init__\u001B[39;49m\u001B[43m(\u001B[49m\u001B[43mDesiredCapabilities\u001B[49m\u001B[38;5;241;43m.\u001B[39;49m\u001B[43mCHROME\u001B[49m\u001B[43m[\u001B[49m\u001B[38;5;124;43m'\u001B[39;49m\u001B[38;5;124;43mbrowserName\u001B[39;49m\u001B[38;5;124;43m'\u001B[39;49m\u001B[43m]\u001B[49m\u001B[43m,\u001B[49m\u001B[43m \u001B[49m\u001B[38;5;124;43m\"\u001B[39;49m\u001B[38;5;124;43mgoog\u001B[39;49m\u001B[38;5;124;43m\"\u001B[39;49m\u001B[43m,\u001B[49m\n\u001B[0;32m     70\u001B[0m \u001B[43m                 \u001B[49m\u001B[43mport\u001B[49m\u001B[43m,\u001B[49m\u001B[43m \u001B[49m\u001B[43moptions\u001B[49m\u001B[43m,\u001B[49m\n\u001B[0;32m     71\u001B[0m \u001B[43m                 \u001B[49m\u001B[43mservice_args\u001B[49m\u001B[43m,\u001B[49m\u001B[43m \u001B[49m\u001B[43mdesired_capabilities\u001B[49m\u001B[43m,\u001B[49m\n\u001B[0;32m     72\u001B[0m \u001B[43m                 \u001B[49m\u001B[43mservice_log_path\u001B[49m\u001B[43m,\u001B[49m\u001B[43m \u001B[49m\u001B[43mservice\u001B[49m\u001B[43m,\u001B[49m\u001B[43m \u001B[49m\u001B[43mkeep_alive\u001B[49m\u001B[43m)\u001B[49m\n",
      "File \u001B[1;32m~\\AppData\\Local\\Programs\\Python\\Python310\\lib\\site-packages\\selenium\\webdriver\\chromium\\webdriver.py:99\u001B[0m, in \u001B[0;36mChromiumDriver.__init__\u001B[1;34m(self, browser_name, vendor_prefix, port, options, service_args, desired_capabilities, service_log_path, service, keep_alive)\u001B[0m\n\u001B[0;32m     92\u001B[0m     \u001B[38;5;28msuper\u001B[39m()\u001B[38;5;241m.\u001B[39m\u001B[38;5;21m__init__\u001B[39m(\n\u001B[0;32m     93\u001B[0m         command_executor\u001B[38;5;241m=\u001B[39mChromiumRemoteConnection(\n\u001B[0;32m     94\u001B[0m             remote_server_addr\u001B[38;5;241m=\u001B[39m\u001B[38;5;28mself\u001B[39m\u001B[38;5;241m.\u001B[39mservice\u001B[38;5;241m.\u001B[39mservice_url,\n\u001B[0;32m     95\u001B[0m             browser_name\u001B[38;5;241m=\u001B[39mbrowser_name, vendor_prefix\u001B[38;5;241m=\u001B[39mvendor_prefix,\n\u001B[0;32m     96\u001B[0m             keep_alive\u001B[38;5;241m=\u001B[39mkeep_alive, ignore_proxy\u001B[38;5;241m=\u001B[39m_ignore_proxy),\n\u001B[0;32m     97\u001B[0m         options\u001B[38;5;241m=\u001B[39moptions)\n\u001B[0;32m     98\u001B[0m \u001B[38;5;28;01mexcept\u001B[39;00m \u001B[38;5;167;01mException\u001B[39;00m:\n\u001B[1;32m---> 99\u001B[0m     \u001B[38;5;28;43mself\u001B[39;49m\u001B[38;5;241;43m.\u001B[39;49m\u001B[43mquit\u001B[49m\u001B[43m(\u001B[49m\u001B[43m)\u001B[49m\n\u001B[0;32m    100\u001B[0m     \u001B[38;5;28;01mraise\u001B[39;00m\n\u001B[0;32m    101\u001B[0m \u001B[38;5;28mself\u001B[39m\u001B[38;5;241m.\u001B[39m_is_remote \u001B[38;5;241m=\u001B[39m \u001B[38;5;28;01mFalse\u001B[39;00m\n",
      "File \u001B[1;32m~\\AppData\\Local\\Programs\\Python\\Python310\\lib\\site-packages\\selenium\\webdriver\\chromium\\webdriver.py:238\u001B[0m, in \u001B[0;36mChromiumDriver.quit\u001B[1;34m(self)\u001B[0m\n\u001B[0;32m    236\u001B[0m     \u001B[38;5;28;01mpass\u001B[39;00m\n\u001B[0;32m    237\u001B[0m \u001B[38;5;28;01mfinally\u001B[39;00m:\n\u001B[1;32m--> 238\u001B[0m     \u001B[38;5;28;43mself\u001B[39;49m\u001B[38;5;241;43m.\u001B[39;49m\u001B[43mservice\u001B[49m\u001B[38;5;241;43m.\u001B[39;49m\u001B[43mstop\u001B[49m\u001B[43m(\u001B[49m\u001B[43m)\u001B[49m\n",
      "File \u001B[1;32m~\\AppData\\Local\\Programs\\Python\\Python310\\lib\\site-packages\\selenium\\webdriver\\common\\service.py:146\u001B[0m, in \u001B[0;36mService.stop\u001B[1;34m(self)\u001B[0m\n\u001B[0;32m    143\u001B[0m     \u001B[38;5;28;01mreturn\u001B[39;00m\n\u001B[0;32m    145\u001B[0m \u001B[38;5;28;01mtry\u001B[39;00m:\n\u001B[1;32m--> 146\u001B[0m     \u001B[38;5;28;43mself\u001B[39;49m\u001B[38;5;241;43m.\u001B[39;49m\u001B[43msend_remote_shutdown_command\u001B[49m\u001B[43m(\u001B[49m\u001B[43m)\u001B[49m\n\u001B[0;32m    147\u001B[0m \u001B[38;5;28;01mexcept\u001B[39;00m \u001B[38;5;167;01mTypeError\u001B[39;00m:\n\u001B[0;32m    148\u001B[0m     \u001B[38;5;28;01mpass\u001B[39;00m\n",
      "File \u001B[1;32m~\\AppData\\Local\\Programs\\Python\\Python310\\lib\\site-packages\\selenium\\webdriver\\common\\service.py:127\u001B[0m, in \u001B[0;36mService.send_remote_shutdown_command\u001B[1;34m(self)\u001B[0m\n\u001B[0;32m    124\u001B[0m     \u001B[38;5;28;01mreturn\u001B[39;00m\n\u001B[0;32m    126\u001B[0m \u001B[38;5;28;01mfor\u001B[39;00m x \u001B[38;5;129;01min\u001B[39;00m \u001B[38;5;28mrange\u001B[39m(\u001B[38;5;241m30\u001B[39m):\n\u001B[1;32m--> 127\u001B[0m     \u001B[38;5;28;01mif\u001B[39;00m \u001B[38;5;129;01mnot\u001B[39;00m \u001B[38;5;28;43mself\u001B[39;49m\u001B[38;5;241;43m.\u001B[39;49m\u001B[43mis_connectable\u001B[49m\u001B[43m(\u001B[49m\u001B[43m)\u001B[49m:\n\u001B[0;32m    128\u001B[0m         \u001B[38;5;28;01mbreak\u001B[39;00m\n\u001B[0;32m    129\u001B[0m     \u001B[38;5;28;01melse\u001B[39;00m:\n",
      "File \u001B[1;32m~\\AppData\\Local\\Programs\\Python\\Python310\\lib\\site-packages\\selenium\\webdriver\\common\\service.py:116\u001B[0m, in \u001B[0;36mService.is_connectable\u001B[1;34m(self)\u001B[0m\n\u001B[0;32m    115\u001B[0m \u001B[38;5;28;01mdef\u001B[39;00m \u001B[38;5;21mis_connectable\u001B[39m(\u001B[38;5;28mself\u001B[39m):\n\u001B[1;32m--> 116\u001B[0m     \u001B[38;5;28;01mreturn\u001B[39;00m \u001B[43mutils\u001B[49m\u001B[38;5;241;43m.\u001B[39;49m\u001B[43mis_connectable\u001B[49m\u001B[43m(\u001B[49m\u001B[38;5;28;43mself\u001B[39;49m\u001B[38;5;241;43m.\u001B[39;49m\u001B[43mport\u001B[49m\u001B[43m)\u001B[49m\n",
      "File \u001B[1;32m~\\AppData\\Local\\Programs\\Python\\Python310\\lib\\site-packages\\selenium\\webdriver\\common\\utils.py:107\u001B[0m, in \u001B[0;36mis_connectable\u001B[1;34m(port, host)\u001B[0m\n\u001B[0;32m    105\u001B[0m socket_ \u001B[38;5;241m=\u001B[39m \u001B[38;5;28;01mNone\u001B[39;00m\n\u001B[0;32m    106\u001B[0m \u001B[38;5;28;01mtry\u001B[39;00m:\n\u001B[1;32m--> 107\u001B[0m     socket_ \u001B[38;5;241m=\u001B[39m \u001B[43msocket\u001B[49m\u001B[38;5;241;43m.\u001B[39;49m\u001B[43mcreate_connection\u001B[49m\u001B[43m(\u001B[49m\u001B[43m(\u001B[49m\u001B[43mhost\u001B[49m\u001B[43m,\u001B[49m\u001B[43m \u001B[49m\u001B[43mport\u001B[49m\u001B[43m)\u001B[49m\u001B[43m,\u001B[49m\u001B[43m \u001B[49m\u001B[38;5;241;43m1\u001B[39;49m\u001B[43m)\u001B[49m\n\u001B[0;32m    108\u001B[0m     result \u001B[38;5;241m=\u001B[39m \u001B[38;5;28;01mTrue\u001B[39;00m\n\u001B[0;32m    109\u001B[0m \u001B[38;5;28;01mexcept\u001B[39;00m _is_connectable_exceptions:\n",
      "File \u001B[1;32m~\\AppData\\Local\\Programs\\Python\\Python310\\lib\\socket.py:833\u001B[0m, in \u001B[0;36mcreate_connection\u001B[1;34m(address, timeout, source_address)\u001B[0m\n\u001B[0;32m    831\u001B[0m \u001B[38;5;28;01mif\u001B[39;00m source_address:\n\u001B[0;32m    832\u001B[0m     sock\u001B[38;5;241m.\u001B[39mbind(source_address)\n\u001B[1;32m--> 833\u001B[0m \u001B[43msock\u001B[49m\u001B[38;5;241;43m.\u001B[39;49m\u001B[43mconnect\u001B[49m\u001B[43m(\u001B[49m\u001B[43msa\u001B[49m\u001B[43m)\u001B[49m\n\u001B[0;32m    834\u001B[0m \u001B[38;5;66;03m# Break explicitly a reference cycle\u001B[39;00m\n\u001B[0;32m    835\u001B[0m err \u001B[38;5;241m=\u001B[39m \u001B[38;5;28;01mNone\u001B[39;00m\n",
      "\u001B[1;31mKeyboardInterrupt\u001B[0m: "
     ]
    }
   ],
   "source": [
    "\n",
    "import selenium\n",
    "from selenium import webdriver\n",
    "from selenium.webdriver.chrome.service import Service\n",
    "from selenium.webdriver.common.by import By\n",
    "from webdriver_manager.chrome import ChromeDriverManager\n",
    "from selenium.webdriver.chrome.options import Options\n",
    "from selenium.webdriver.common.keys import Keys\n",
    "from selenium.common.exceptions import NoSuchElementException\n",
    "from twitter_credentials import *\n",
    "from selenium import common\n",
    "import time\n",
    "from selenium.webdriver.support.select import Select\n",
    "timeout = time.time() + 60*4\n",
    "chrome_options = Options()\n",
    "chrome_options.add_experimental_option(\"detach\", True)\n",
    "s = Service(\"D:\\Webservices ML\\chromedriver.exe\")\n"
   ],
   "metadata": {
    "collapsed": false
   }
  },
  {
   "cell_type": "code",
   "execution_count": 39,
   "outputs": [],
   "source": [
    "fir_username = \"imadityakumar2@gmail.com\"\n",
    "fir_password = \"Password@12\"\n",
    "complaint_text = stored_values[\"complaint text\"]\n",
    "place_of_incident = stored_values[\"place of incident\"]\n",
    "District = stored_values[\"District\"]\n"
   ],
   "metadata": {
    "collapsed": false
   }
  },
  {
   "cell_type": "code",
   "execution_count": 46,
   "outputs": [],
   "source": [
    "def online_fir_hp():\n",
    "\tdriver = webdriver.Chrome(service=s, options=chrome_options)\n",
    "\tdriver.maximize_window()\n",
    "\tdriver.get(\"http://citizenportal.hppolice.gov.in:8080/citizen/login.htm\")\n",
    "\tdriver.find_element(By.ID,value=\"close-btn\").click()\n",
    "\tdriver.find_element(By.ID,value=\"username\").send_keys(fir_username)\n",
    "\tdriver.find_element(By.ID,value=\"password\").send_keys(fir_password)\n",
    "\tdriver.find_element(By.ID,value=\"button\").click()\n",
    "\ttime.sleep(5)\n",
    "\tdriver.get(\"http://citizenportal.hppolice.gov.in:8080/citizen/complaintregistration.htm\")\n",
    "\tSelect(driver.find_element(By.ID, value=\"nature1\")).select_by_index(2)\n",
    "\tdriver.find_element(By.LINK_TEXT,value=\"Incident Details\").click()\n",
    "\tdriver.find_element(By.ID,value=\"POI\").send_keys(place_of_incident)\n",
    "\tdriver.find_element(By.LINK_TEXT,value=\"Complaint Details\").click()\n",
    "\tdriver.find_element(By.ID,value=\"CompDep\").send_keys(complaint_text)\n",
    "\tdriver.find_element(By.LINK_TEXT,value=\"Complaint Submission Details\").click()\n",
    "\tdriver.find_element(By.ID,value=\"radioButtnId1\").click()\n",
    "\tSelect(driver.find_element(By.ID, value=\"Dist\")).select_by_visible_text(District)\n",
    "\t# Select(driver.find_element(By.ID, value=\"submitPsCd\")).select_by_visible_text(District)\n"
   ],
   "metadata": {
    "collapsed": false
   }
  },
  {
   "cell_type": "code",
   "execution_count": 47,
   "outputs": [
    {
     "ename": "ElementNotInteractableException",
     "evalue": "Message: element not interactable\n  (Session info: chrome=105.0.5195.127)\nStacktrace:\nBacktrace:\n\tOrdinal0 [0x0099DF13+2219795]\n\tOrdinal0 [0x00932841+1779777]\n\tOrdinal0 [0x00844100+803072]\n\tOrdinal0 [0x0086E523+976163]\n\tOrdinal0 [0x0086DB93+973715]\n\tOrdinal0 [0x0088E7FC+1107964]\n\tOrdinal0 [0x008694B4+955572]\n\tOrdinal0 [0x0088EA14+1108500]\n\tOrdinal0 [0x0089F192+1175954]\n\tOrdinal0 [0x0088E616+1107478]\n\tOrdinal0 [0x00867F89+950153]\n\tOrdinal0 [0x00868F56+954198]\n\tGetHandleVerifier [0x00C92CB2+3040210]\n\tGetHandleVerifier [0x00C82BB4+2974420]\n\tGetHandleVerifier [0x00A36A0A+565546]\n\tGetHandleVerifier [0x00A35680+560544]\n\tOrdinal0 [0x00939A5C+1808988]\n\tOrdinal0 [0x0093E3A8+1827752]\n\tOrdinal0 [0x0093E495+1827989]\n\tOrdinal0 [0x009480A4+1867940]\n\tBaseThreadInitThunk [0x76CF7BA9+25]\n\tRtlInitializeExceptionChain [0x7755BB3B+107]\n\tRtlClearBits [0x7755BABF+191]\n",
     "output_type": "error",
     "traceback": [
      "\u001B[1;31m---------------------------------------------------------------------------\u001B[0m",
      "\u001B[1;31mElementNotInteractableException\u001B[0m           Traceback (most recent call last)",
      "Input \u001B[1;32mIn [47]\u001B[0m, in \u001B[0;36m<cell line: 1>\u001B[1;34m()\u001B[0m\n\u001B[1;32m----> 1\u001B[0m \u001B[43monline_fir_hp\u001B[49m\u001B[43m(\u001B[49m\u001B[43m)\u001B[49m\n",
      "Input \u001B[1;32mIn [46]\u001B[0m, in \u001B[0;36monline_fir_hp\u001B[1;34m()\u001B[0m\n\u001B[0;32m     13\u001B[0m driver\u001B[38;5;241m.\u001B[39mfind_element(By\u001B[38;5;241m.\u001B[39mID,value\u001B[38;5;241m=\u001B[39m\u001B[38;5;124m\"\u001B[39m\u001B[38;5;124mPOI\u001B[39m\u001B[38;5;124m\"\u001B[39m)\u001B[38;5;241m.\u001B[39msend_keys(place_of_incident)\n\u001B[0;32m     14\u001B[0m driver\u001B[38;5;241m.\u001B[39mfind_element(By\u001B[38;5;241m.\u001B[39mLINK_TEXT,value\u001B[38;5;241m=\u001B[39m\u001B[38;5;124m\"\u001B[39m\u001B[38;5;124mComplaint Details\u001B[39m\u001B[38;5;124m\"\u001B[39m)\u001B[38;5;241m.\u001B[39mclick()\n\u001B[1;32m---> 15\u001B[0m \u001B[43mdriver\u001B[49m\u001B[38;5;241;43m.\u001B[39;49m\u001B[43mfind_element\u001B[49m\u001B[43m(\u001B[49m\u001B[43mBy\u001B[49m\u001B[38;5;241;43m.\u001B[39;49m\u001B[43mID\u001B[49m\u001B[43m,\u001B[49m\u001B[43mvalue\u001B[49m\u001B[38;5;241;43m=\u001B[39;49m\u001B[38;5;124;43m\"\u001B[39;49m\u001B[38;5;124;43mCompDep\u001B[39;49m\u001B[38;5;124;43m\"\u001B[39;49m\u001B[43m)\u001B[49m\u001B[38;5;241;43m.\u001B[39;49m\u001B[43msend_keys\u001B[49m\u001B[43m(\u001B[49m\u001B[43mcomplaint_text\u001B[49m\u001B[43m)\u001B[49m\n\u001B[0;32m     16\u001B[0m driver\u001B[38;5;241m.\u001B[39mfind_element(By\u001B[38;5;241m.\u001B[39mLINK_TEXT,value\u001B[38;5;241m=\u001B[39m\u001B[38;5;124m\"\u001B[39m\u001B[38;5;124mComplaint Submission Details\u001B[39m\u001B[38;5;124m\"\u001B[39m)\u001B[38;5;241m.\u001B[39mclick()\n\u001B[0;32m     17\u001B[0m driver\u001B[38;5;241m.\u001B[39mfind_element(By\u001B[38;5;241m.\u001B[39mID,value\u001B[38;5;241m=\u001B[39m\u001B[38;5;124m\"\u001B[39m\u001B[38;5;124mradioButtnId1\u001B[39m\u001B[38;5;124m\"\u001B[39m)\u001B[38;5;241m.\u001B[39mclick()\n",
      "File \u001B[1;32m~\\AppData\\Local\\Programs\\Python\\Python310\\lib\\site-packages\\selenium\\webdriver\\remote\\webelement.py:223\u001B[0m, in \u001B[0;36mWebElement.send_keys\u001B[1;34m(self, *value)\u001B[0m\n\u001B[0;32m    220\u001B[0m             remote_files\u001B[38;5;241m.\u001B[39mappend(\u001B[38;5;28mself\u001B[39m\u001B[38;5;241m.\u001B[39m_upload(file))\n\u001B[0;32m    221\u001B[0m         value \u001B[38;5;241m=\u001B[39m \u001B[38;5;124m'\u001B[39m\u001B[38;5;130;01m\\n\u001B[39;00m\u001B[38;5;124m'\u001B[39m\u001B[38;5;241m.\u001B[39mjoin(remote_files)\n\u001B[1;32m--> 223\u001B[0m \u001B[38;5;28;43mself\u001B[39;49m\u001B[38;5;241;43m.\u001B[39;49m\u001B[43m_execute\u001B[49m\u001B[43m(\u001B[49m\u001B[43mCommand\u001B[49m\u001B[38;5;241;43m.\u001B[39;49m\u001B[43mSEND_KEYS_TO_ELEMENT\u001B[49m\u001B[43m,\u001B[49m\n\u001B[0;32m    224\u001B[0m \u001B[43m              \u001B[49m\u001B[43m{\u001B[49m\u001B[38;5;124;43m'\u001B[39;49m\u001B[38;5;124;43mtext\u001B[39;49m\u001B[38;5;124;43m'\u001B[39;49m\u001B[43m:\u001B[49m\u001B[43m \u001B[49m\u001B[38;5;124;43m\"\u001B[39;49m\u001B[38;5;124;43m\"\u001B[39;49m\u001B[38;5;241;43m.\u001B[39;49m\u001B[43mjoin\u001B[49m\u001B[43m(\u001B[49m\u001B[43mkeys_to_typing\u001B[49m\u001B[43m(\u001B[49m\u001B[43mvalue\u001B[49m\u001B[43m)\u001B[49m\u001B[43m)\u001B[49m\u001B[43m,\u001B[49m\n\u001B[0;32m    225\u001B[0m \u001B[43m               \u001B[49m\u001B[38;5;124;43m'\u001B[39;49m\u001B[38;5;124;43mvalue\u001B[39;49m\u001B[38;5;124;43m'\u001B[39;49m\u001B[43m:\u001B[49m\u001B[43m \u001B[49m\u001B[43mkeys_to_typing\u001B[49m\u001B[43m(\u001B[49m\u001B[43mvalue\u001B[49m\u001B[43m)\u001B[49m\u001B[43m}\u001B[49m\u001B[43m)\u001B[49m\n",
      "File \u001B[1;32m~\\AppData\\Local\\Programs\\Python\\Python310\\lib\\site-packages\\selenium\\webdriver\\remote\\webelement.py:396\u001B[0m, in \u001B[0;36mWebElement._execute\u001B[1;34m(self, command, params)\u001B[0m\n\u001B[0;32m    394\u001B[0m     params \u001B[38;5;241m=\u001B[39m {}\n\u001B[0;32m    395\u001B[0m params[\u001B[38;5;124m'\u001B[39m\u001B[38;5;124mid\u001B[39m\u001B[38;5;124m'\u001B[39m] \u001B[38;5;241m=\u001B[39m \u001B[38;5;28mself\u001B[39m\u001B[38;5;241m.\u001B[39m_id\n\u001B[1;32m--> 396\u001B[0m \u001B[38;5;28;01mreturn\u001B[39;00m \u001B[38;5;28;43mself\u001B[39;49m\u001B[38;5;241;43m.\u001B[39;49m\u001B[43m_parent\u001B[49m\u001B[38;5;241;43m.\u001B[39;49m\u001B[43mexecute\u001B[49m\u001B[43m(\u001B[49m\u001B[43mcommand\u001B[49m\u001B[43m,\u001B[49m\u001B[43m \u001B[49m\u001B[43mparams\u001B[49m\u001B[43m)\u001B[49m\n",
      "File \u001B[1;32m~\\AppData\\Local\\Programs\\Python\\Python310\\lib\\site-packages\\selenium\\webdriver\\remote\\webdriver.py:428\u001B[0m, in \u001B[0;36mWebDriver.execute\u001B[1;34m(self, driver_command, params)\u001B[0m\n\u001B[0;32m    426\u001B[0m response \u001B[38;5;241m=\u001B[39m \u001B[38;5;28mself\u001B[39m\u001B[38;5;241m.\u001B[39mcommand_executor\u001B[38;5;241m.\u001B[39mexecute(driver_command, params)\n\u001B[0;32m    427\u001B[0m \u001B[38;5;28;01mif\u001B[39;00m response:\n\u001B[1;32m--> 428\u001B[0m     \u001B[38;5;28;43mself\u001B[39;49m\u001B[38;5;241;43m.\u001B[39;49m\u001B[43merror_handler\u001B[49m\u001B[38;5;241;43m.\u001B[39;49m\u001B[43mcheck_response\u001B[49m\u001B[43m(\u001B[49m\u001B[43mresponse\u001B[49m\u001B[43m)\u001B[49m\n\u001B[0;32m    429\u001B[0m     response[\u001B[38;5;124m'\u001B[39m\u001B[38;5;124mvalue\u001B[39m\u001B[38;5;124m'\u001B[39m] \u001B[38;5;241m=\u001B[39m \u001B[38;5;28mself\u001B[39m\u001B[38;5;241m.\u001B[39m_unwrap_value(\n\u001B[0;32m    430\u001B[0m         response\u001B[38;5;241m.\u001B[39mget(\u001B[38;5;124m'\u001B[39m\u001B[38;5;124mvalue\u001B[39m\u001B[38;5;124m'\u001B[39m, \u001B[38;5;28;01mNone\u001B[39;00m))\n\u001B[0;32m    431\u001B[0m     \u001B[38;5;28;01mreturn\u001B[39;00m response\n",
      "File \u001B[1;32m~\\AppData\\Local\\Programs\\Python\\Python310\\lib\\site-packages\\selenium\\webdriver\\remote\\errorhandler.py:243\u001B[0m, in \u001B[0;36mErrorHandler.check_response\u001B[1;34m(self, response)\u001B[0m\n\u001B[0;32m    241\u001B[0m         alert_text \u001B[38;5;241m=\u001B[39m value[\u001B[38;5;124m'\u001B[39m\u001B[38;5;124malert\u001B[39m\u001B[38;5;124m'\u001B[39m]\u001B[38;5;241m.\u001B[39mget(\u001B[38;5;124m'\u001B[39m\u001B[38;5;124mtext\u001B[39m\u001B[38;5;124m'\u001B[39m)\n\u001B[0;32m    242\u001B[0m     \u001B[38;5;28;01mraise\u001B[39;00m exception_class(message, screen, stacktrace, alert_text)  \u001B[38;5;66;03m# type: ignore[call-arg]  # mypy is not smart enough here\u001B[39;00m\n\u001B[1;32m--> 243\u001B[0m \u001B[38;5;28;01mraise\u001B[39;00m exception_class(message, screen, stacktrace)\n",
      "\u001B[1;31mElementNotInteractableException\u001B[0m: Message: element not interactable\n  (Session info: chrome=105.0.5195.127)\nStacktrace:\nBacktrace:\n\tOrdinal0 [0x0099DF13+2219795]\n\tOrdinal0 [0x00932841+1779777]\n\tOrdinal0 [0x00844100+803072]\n\tOrdinal0 [0x0086E523+976163]\n\tOrdinal0 [0x0086DB93+973715]\n\tOrdinal0 [0x0088E7FC+1107964]\n\tOrdinal0 [0x008694B4+955572]\n\tOrdinal0 [0x0088EA14+1108500]\n\tOrdinal0 [0x0089F192+1175954]\n\tOrdinal0 [0x0088E616+1107478]\n\tOrdinal0 [0x00867F89+950153]\n\tOrdinal0 [0x00868F56+954198]\n\tGetHandleVerifier [0x00C92CB2+3040210]\n\tGetHandleVerifier [0x00C82BB4+2974420]\n\tGetHandleVerifier [0x00A36A0A+565546]\n\tGetHandleVerifier [0x00A35680+560544]\n\tOrdinal0 [0x00939A5C+1808988]\n\tOrdinal0 [0x0093E3A8+1827752]\n\tOrdinal0 [0x0093E495+1827989]\n\tOrdinal0 [0x009480A4+1867940]\n\tBaseThreadInitThunk [0x76CF7BA9+25]\n\tRtlInitializeExceptionChain [0x7755BB3B+107]\n\tRtlClearBits [0x7755BABF+191]\n"
     ]
    }
   ],
   "source": [
    "online_fir_hp()"
   ],
   "metadata": {
    "collapsed": false
   }
  },
  {
   "cell_type": "code",
   "execution_count": null,
   "outputs": [],
   "source": [],
   "metadata": {
    "collapsed": false
   }
  },
  {
   "cell_type": "markdown",
   "source": [
    "# Nature of Complaint\n",
    "Place of Incident\n",
    "Complaint Description\n",
    "District\n",
    "Police station"
   ],
   "metadata": {
    "collapsed": false
   }
  },
  {
   "cell_type": "code",
   "execution_count": null,
   "outputs": [],
   "source": [],
   "metadata": {
    "collapsed": false
   }
  },
  {
   "cell_type": "code",
   "execution_count": null,
   "outputs": [],
   "source": [],
   "metadata": {
    "collapsed": false
   }
  },
  {
   "cell_type": "code",
   "execution_count": null,
   "outputs": [],
   "source": [],
   "metadata": {
    "collapsed": false
   }
  },
  {
   "cell_type": "code",
   "execution_count": null,
   "outputs": [],
   "source": [],
   "metadata": {
    "collapsed": false
   }
  }
 ],
 "metadata": {
  "kernelspec": {
   "display_name": "Python 3",
   "language": "python",
   "name": "python3"
  },
  "language_info": {
   "codemirror_mode": {
    "name": "ipython",
    "version": 2
   },
   "file_extension": ".py",
   "mimetype": "text/x-python",
   "name": "python",
   "nbconvert_exporter": "python",
   "pygments_lexer": "ipython2",
   "version": "2.7.6"
  }
 },
 "nbformat": 4,
 "nbformat_minor": 0
}
